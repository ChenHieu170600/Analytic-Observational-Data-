{
  "nbformat": 4,
  "nbformat_minor": 0,
  "metadata": {
    "colab": {
      "name": "Lab 5 AOD part 1.ipynb",
      "provenance": []
    },
    "kernelspec": {
      "name": "python3",
      "display_name": "Python 3"
    },
    "language_info": {
      "name": "python"
    }
  },
  "cells": [
    {
      "cell_type": "code",
      "metadata": {
        "id": "oNPybuMjRiOs"
      },
      "source": [
        "import numpy as np\n",
        "import pandas as pd\n"
      ],
      "execution_count": 3,
      "outputs": []
    },
    {
      "cell_type": "code",
      "metadata": {
        "colab": {
          "base_uri": "https://localhost:8080/"
        },
        "id": "pQqN0efaRy0O",
        "outputId": "b2456355-d029-4759-8f41-ce4ce2082cf3"
      },
      "source": [
        "df = pd.read_csv('federal-firearm-licensees.csv')"
      ],
      "execution_count": 4,
      "outputs": [
        {
          "output_type": "stream",
          "text": [
            "/usr/local/lib/python3.7/dist-packages/IPython/core/interactiveshell.py:2718: DtypeWarning: Columns (1,2,3,4,6,12,17) have mixed types.Specify dtype option on import or set low_memory=False.\n",
            "  interactivity=interactivity, compiler=compiler, result=result)\n"
          ],
          "name": "stderr"
        }
      ]
    },
    {
      "cell_type": "code",
      "metadata": {
        "id": "jldRcH1N9ieW"
      },
      "source": [
        "df"
      ],
      "execution_count": null,
      "outputs": []
    },
    {
      "cell_type": "code",
      "metadata": {
        "colab": {
          "base_uri": "https://localhost:8080/",
          "height": 299
        },
        "id": "vQyVQyLf9lPb",
        "outputId": "ed358ea0-2347-4d86-a496-cc379aad58b8"
      },
      "source": [
        "import matplotlib.pyplot as plt\n",
        "\n",
        "plt.style.use('fivethirtyeight')\n",
        "df['Premise Zip Code'].value_counts().plot.hist(bins= 50)"
      ],
      "execution_count": 9,
      "outputs": [
        {
          "output_type": "execute_result",
          "data": {
            "text/plain": [
              "<matplotlib.axes._subplots.AxesSubplot at 0x7fd9f2704150>"
            ]
          },
          "metadata": {
            "tags": []
          },
          "execution_count": 9
        },
        {
          "output_type": "display_data",
          "data": {
            "image/png": "[encoded data removed]",
            "text/plain": [
              "<Figure size 432x288 with 1 Axes>"
            ]
          },
          "metadata": {
            "tags": []
          }
        }
      ]
    },
    {
      "cell_type": "code",
      "metadata": {
        "colab": {
          "base_uri": "https://localhost:8080/"
        },
        "id": "vJeQQwRi-IEA",
        "outputId": "b52680d7-c628-4d6c-e832-81e13a6be707"
      },
      "source": [
        "df['Premise Zip Code'].value_counts()"
      ],
      "execution_count": 13,
      "outputs": [
        {
          "output_type": "execute_result",
          "data": {
            "text/plain": [
              "59901        58\n",
              "83501.0      46\n",
              "99654.0      45\n",
              "85027.0      39\n",
              "85541.0      33\n",
              "             ..\n",
              "48822         1\n",
              "65046         1\n",
              "68864         1\n",
              "482070000     1\n",
              "726320000     1\n",
              "Name: Premise Zip Code, Length: 29090, dtype: int64"
            ]
          },
          "metadata": {
            "tags": []
          },
          "execution_count": 13
        }
      ]
    },
    {
      "cell_type": "code",
      "metadata": {
        "id": "ZTmmSgjS-uBr"
      },
      "source": [
        "X = df['Premise Zip Code'].value_counts()"
      ],
      "execution_count": 15,
      "outputs": []
    },
    {
      "cell_type": "code",
      "metadata": {
        "id": "57qWCcujEOVy"
      },
      "source": [
        "import scipy.stats as stats\n",
        "\n",
        "def t_value(X,h_0):\n",
        "  se = np.sqrt(np.var(X)/len(X))\n",
        "  return (np.mean(X) - h_0)/se\n",
        "def p_value(t):\n",
        "  return stats.norm.sf(abs(t))*2\n"
      ],
      "execution_count": 18,
      "outputs": []
    },
    {
      "cell_type": "code",
      "metadata": {
        "id": "ngNjL10TFHSw"
      },
      "source": [
        "t = t_value(X, 2.75)\n",
        "p = p_value(t)"
      ],
      "execution_count": 23,
      "outputs": []
    },
    {
      "cell_type": "code",
      "metadata": {
        "colab": {
          "base_uri": "https://localhost:8080/"
        },
        "id": "6Uc3IvPPFPQj",
        "outputId": "f848afce-3849-4b3a-f14a-5ee7f3642298"
      },
      "source": [
        "t,p"
      ],
      "execution_count": 24,
      "outputs": [
        {
          "output_type": "execute_result",
          "data": {
            "text/plain": [
              "(0.3570237643291454, 0.7210740152175236)"
            ]
          },
          "metadata": {
            "tags": []
          },
          "execution_count": 24
        }
      ]
    },
    {
      "cell_type": "code",
      "metadata": {
        "id": "1uTFYFtYFSqR"
      },
      "source": [
        "df = pd.read_csv('GlobalTemperatures.csv')"
      ],
      "execution_count": 25,
      "outputs": []
    },
    {
      "cell_type": "code",
      "metadata": {
        "id": "RbwwfEQUo9AY"
      },
      "source": [
        "df "
      ],
      "execution_count": null,
      "outputs": []
    },
    {
      "cell_type": "code",
      "metadata": {
        "colab": {
          "base_uri": "https://localhost:8080/"
        },
        "id": "jkqX5tCRo95Z",
        "outputId": "a7b3d06a-5d4f-4e63-ccc3-0eb93d33375d"
      },
      "source": [
        "df['LandAverageTemperature'].mean()"
      ],
      "execution_count": 37,
      "outputs": [
        {
          "output_type": "execute_result",
          "data": {
            "text/plain": [
              "8.374731132075466"
            ]
          },
          "metadata": {
            "tags": []
          },
          "execution_count": 37
        }
      ]
    },
    {
      "cell_type": "code",
      "metadata": {
        "id": "uxHwFFr3pKQD"
      },
      "source": [
        "sample = df['LandAverageTemperature'].sample(n =1000, random_state= 1 )\n"
      ],
      "execution_count": 70,
      "outputs": []
    },
    {
      "cell_type": "code",
      "metadata": {
        "colab": {
          "base_uri": "https://localhost:8080/"
        },
        "id": "7l-BpONurgQo",
        "outputId": "252f5fbd-c823-4a54-c41d-852bd3a9ea89"
      },
      "source": [
        "stats.ttest_1samp(a=sample.dropna(), popmean= 8.37)"
      ],
      "execution_count": 71,
      "outputs": [
        {
          "output_type": "execute_result",
          "data": {
            "text/plain": [
              "Ttest_1sampResult(statistic=0.1877756831827324, pvalue=0.8510907456365224)"
            ]
          },
          "metadata": {
            "tags": []
          },
          "execution_count": 71
        }
      ]
    },
    {
      "cell_type": "code",
      "metadata": {
        "id": "lIVDPhcesOGv"
      },
      "source": [
        ""
      ],
      "execution_count": null,
      "outputs": []
    }
  ]
}