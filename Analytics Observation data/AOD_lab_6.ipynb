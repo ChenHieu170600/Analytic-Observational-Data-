{
  "nbformat": 4,
  "nbformat_minor": 0,
  "metadata": {
    "colab": {
      "name": "AOD lab 6.ipynb",
      "private_outputs": true,
      "provenance": [],
      "collapsed_sections": []
    },
    "kernelspec": {
      "name": "python3",
      "display_name": "Python 3"
    },
    "language_info": {
      "name": "python"
    }
  },
  "cells": [
    {
      "cell_type": "code",
      "metadata": {
        "id": "IMRI3EG-SI3w"
      },
      "source": [
        "import pandas as pd\n",
        "import numpy as np \n",
        "import matplotlib.pyplot as plt\n"
      ],
      "execution_count": null,
      "outputs": []
    },
    {
      "cell_type": "markdown",
      "metadata": {
        "id": "j_CM1carRJl_"
      },
      "source": [
        "# E-commerce"
      ]
    },
    {
      "cell_type": "markdown",
      "metadata": {
        "id": "VhN0-qOjRPKz"
      },
      "source": [
        "## 1)Bootstrapping"
      ]
    },
    {
      "cell_type": "code",
      "metadata": {
        "id": "sPL4KOvSWj8v"
      },
      "source": [
        "df = pd.read_csv('data.csv',header= 0,encoding= 'unicode_escape')\n",
        "df.head()"
      ],
      "execution_count": null,
      "outputs": []
    },
    {
      "cell_type": "code",
      "metadata": {
        "id": "FBM0SV6eXCzg"
      },
      "source": [
        "df.select_dtypes(exclude='object').describe() "
      ],
      "execution_count": null,
      "outputs": []
    },
    {
      "cell_type": "code",
      "metadata": {
        "id": "YDzmrJ-Rxm-C"
      },
      "source": [
        "df = df[df['Quantity']>0]"
      ],
      "execution_count": null,
      "outputs": []
    },
    {
      "cell_type": "code",
      "metadata": {
        "id": "1as2zIlTxur2"
      },
      "source": [
        "df.select_dtypes(exclude='object').describe()"
      ],
      "execution_count": null,
      "outputs": []
    },
    {
      "cell_type": "code",
      "metadata": {
        "id": "5Watp9VebIwg"
      },
      "source": [
        "#Number of stockcode per invoice\n",
        "r = df.groupby('InvoiceNo').count()\n",
        "NoStockCode= r['StockCode'].to_numpy()\n"
      ],
      "execution_count": null,
      "outputs": []
    },
    {
      "cell_type": "code",
      "metadata": {
        "id": "EMF1cBbrXZnA"
      },
      "source": [
        "#total price of an invoice\n",
        "r = df.groupby('InvoiceNo').sum()\n",
        "SumPrice = r['UnitPrice'].to_numpy()\n"
      ],
      "execution_count": null,
      "outputs": []
    },
    {
      "cell_type": "code",
      "metadata": {
        "id": "YneJoBLOZITN"
      },
      "source": [
        "def bootstrap(x):\n",
        "  mean_dist= []\n",
        "  var_dist=[]\n",
        "  i = 0\n",
        "  while i<1000:\n",
        "    val = np.random.choice(x, size= 1000) #default size per sample : 1000\n",
        "    mean_dist.append(val.mean())\n",
        "    var_dist.append(val.var())\n",
        "    i+=1\n",
        "  sample_mean = np.array(mean_dist).mean()\n",
        "  sample_var =  np.array(var_dist).mean()\n",
        "  return  np.array(mean_dist), np.array(var_dist)\n"
      ],
      "execution_count": null,
      "outputs": []
    },
    {
      "cell_type": "code",
      "metadata": {
        "id": "vAa4Q0NYglC1"
      },
      "source": [
        "x,y = bootstrap(SumPrice)\n",
        "print(x.mean(), y.mean())\n"
      ],
      "execution_count": null,
      "outputs": []
    },
    {
      "cell_type": "code",
      "metadata": {
        "id": "4LyNz3Ubhj75"
      },
      "source": [
        "import seaborn as sns\n",
        "sns.set_theme(style=\"whitegrid\")\n",
        "\n",
        "fig, (ax1, ax2) = plt.subplots(2,1)\n",
        "fig.set_size_inches(8, 8)\n",
        "ax1.set_title('Mean plot')\n",
        "ax2.set_title('Var plot')\n",
        "sns.boxplot(x, ax = ax1)\n",
        "sns.boxplot(y, ax = ax2)\n",
        "\n",
        "plt.show()"
      ],
      "execution_count": null,
      "outputs": []
    },
    {
      "cell_type": "code",
      "metadata": {
        "id": "Ep7bC0HAk9lG"
      },
      "source": [
        "def five_num_sum(x, title):\n",
        "  print(title)\n",
        "  print('Q1:', np.quantile(x, 0))\n",
        "  print('Q2:', np.quantile(x, 0.25))\n",
        "  print('Mean:', np.quantile(x, 0.5))\n",
        "  print('Q4:', np.quantile(x, 0.75))\n",
        "  print('Q5:', np.quantile(x, 1))\n",
        "  return \n",
        "five_num_sum(x, 'mean')\n",
        "five_num_sum(y, 'variance')"
      ],
      "execution_count": null,
      "outputs": []
    },
    {
      "cell_type": "code",
      "metadata": {
        "id": "Hx2AncpFfkH1"
      },
      "source": [
        "#standar error\n",
        "print(\" mean standard error:\", x.std()/len(x))\n",
        "print(\" variance standard error:\", y.std()/len(y))"
      ],
      "execution_count": null,
      "outputs": []
    },
    {
      "cell_type": "code",
      "metadata": {
        "id": "tzcBzfaw_Upi"
      },
      "source": [
        "import scipy.stats\n",
        "def mean_confidence_interval(data, confidence=0.95):\n",
        "    a = 1.0 * np.array(data)\n",
        "    n = len(a)\n",
        "    m, se = np.mean(a), scipy.stats.sem(a)\n",
        "    h = se * scipy.stats.t.ppf((1 + confidence) / 2, n-1)\n",
        "    print(\"Mean:\", m)\n",
        "    print(\"lower:\", m-h)\n",
        "    print(\"higher:\", m+h)\n",
        "print('Mean:')\n",
        "mean_confidence_interval(x)\n",
        "print('Variance:')\n",
        "mean_confidence_interval(y)\n"
      ],
      "execution_count": null,
      "outputs": []
    },
    {
      "cell_type": "markdown",
      "metadata": {
        "id": "K7ti1yUKEWZ9"
      },
      "source": [
        "## 2)Jackknife method\n"
      ]
    },
    {
      "cell_type": "code",
      "metadata": {
        "id": "x-4QhJA2BLl6"
      },
      "source": [
        "#Using same data from above NoStockcode and SumPrice\n",
        "from astropy.stats import jackknife_resampling\n",
        "from astropy.stats import jackknife_stats\n",
        "\n",
        "resamples = jackknife_resampling(SumPrice)\n",
        "mean_dist = resamples.mean(axis=1)\n",
        "var_dist = resamples.var(axis =1)\n",
        "\n"
      ],
      "execution_count": null,
      "outputs": []
    },
    {
      "cell_type": "code",
      "metadata": {
        "id": "KS-jQ32Wyzwm"
      },
      "source": [
        "fig, (ax1, ax2) = plt.subplots(2,1)\n",
        "fig.set_size_inches(8, 8)\n",
        "ax1.set_title('Mean plot')\n",
        "ax2.set_title('Var plot')\n",
        "sns.boxplot(mean_dist, ax = ax1)\n",
        "sns.boxplot(var_dist, ax = ax2)\n",
        "ax1.set_xlim(122,122.4)\n",
        "ax2.set_xlim(215000,215200)\n"
      ],
      "execution_count": null,
      "outputs": []
    },
    {
      "cell_type": "code",
      "metadata": {
        "id": "pM1yGzNI1AHB"
      },
      "source": [
        "five_num_sum(mean_dist, 'mean')\n",
        "five_num_sum(var_dist, 'variance')"
      ],
      "execution_count": null,
      "outputs": []
    },
    {
      "cell_type": "code",
      "metadata": {
        "id": "SVsB5Znay4D4"
      },
      "source": [
        "test_statistic = lambda x: (np.mean(x), np.var(x))\n",
        "estimate, bias, stderr, conf_interval = jackknife_stats(\n",
        "    SumPrice,test_statistic, 0.95)"
      ],
      "execution_count": null,
      "outputs": []
    },
    {
      "cell_type": "code",
      "metadata": {
        "id": "hLsQ-bC3zp6z"
      },
      "source": [
        "print('Mean standard error:', stderr[0])\n",
        "print('Var standard error:', stderr[1])"
      ],
      "execution_count": null,
      "outputs": []
    },
    {
      "cell_type": "code",
      "metadata": {
        "id": "KbCI_iqw6nym"
      },
      "source": [
        "print('Mean 95% cof interval:', conf_interval[0])\n",
        "print('Var 95% cof interval:', conf_interval[1])"
      ],
      "execution_count": null,
      "outputs": []
    },
    {
      "cell_type": "markdown",
      "metadata": {
        "id": "1cG271LA9HCF"
      },
      "source": [
        "# GlobalLandTemperature\n"
      ]
    },
    {
      "cell_type": "markdown",
      "metadata": {
        "id": "ARw4mQAR9MqN"
      },
      "source": [
        "## 1) Boostrapping"
      ]
    },
    {
      "cell_type": "code",
      "metadata": {
        "id": "8isKBrJo9IFb"
      },
      "source": [
        "df = pd.read_csv('GlobalLandTemperaturesByCountry.csv')\n",
        "df= df.dropna().reset_index(drop=True)#dropNan\n",
        "df.head()\n",
        "AvgTemp= df['AverageTemperature']"
      ],
      "execution_count": null,
      "outputs": []
    },
    {
      "cell_type": "code",
      "metadata": {
        "id": "2fo6ov2P9hiz"
      },
      "source": [
        "\n",
        "#Bootstrapping \n",
        "m,v = bootstrap(AvgTemp)\n",
        "print(m.mean(), v.mean())"
      ],
      "execution_count": null,
      "outputs": []
    },
    {
      "cell_type": "code",
      "metadata": {
        "id": "8DC03sUA935J"
      },
      "source": [
        "fig, (ax1, ax2) = plt.subplots(2,1)\n",
        "fig.set_size_inches(8, 8)\n",
        "ax1.set_title('Mean plot')\n",
        "ax2.set_title('Var plot')\n",
        "sns.boxplot(m, ax = ax1)\n",
        "sns.boxplot(v, ax = ax2)\n",
        "\n",
        "plt.show()"
      ],
      "execution_count": null,
      "outputs": []
    },
    {
      "cell_type": "code",
      "metadata": {
        "id": "mOZna8m9_Jj5"
      },
      "source": [
        "#standar error\n",
        "print(\" mean standard error:\", m.std()/len(m))\n",
        "print(\" variance standard error:\", v.std()/len(v))"
      ],
      "execution_count": null,
      "outputs": []
    },
    {
      "cell_type": "code",
      "metadata": {
        "id": "RrFlfFh8ApGB"
      },
      "source": [
        "print('Mean:')\n",
        "mean_confidence_interval(m)\n",
        "print('Variance:')\n",
        "mean_confidence_interval(v)\n"
      ],
      "execution_count": null,
      "outputs": []
    },
    {
      "cell_type": "markdown",
      "metadata": {
        "id": "X9BtrQFoBceo"
      },
      "source": [
        "## 2) Jackknife"
      ]
    },
    {
      "cell_type": "code",
      "metadata": {
        "id": "R2uuhiitB_sS"
      },
      "source": [
        "avg = AvgTemp.to_numpy()\n"
      ],
      "execution_count": null,
      "outputs": []
    },
    {
      "cell_type": "code",
      "metadata": {
        "id": "6_zc_gRRA5YI"
      },
      "source": [
        "test_statistic = lambda x: (np.mean(x), np.var(x))\n",
        "estimate, bias, stderr, conf_interval = jackknife_stats(\n",
        "    avg,test_statistic, 0.95)\n"
      ],
      "execution_count": null,
      "outputs": []
    },
    {
      "cell_type": "code",
      "metadata": {
        "id": "GYwTmAxPB1NS"
      },
      "source": [
        ""
      ],
      "execution_count": null,
      "outputs": []
    }
  ]
}