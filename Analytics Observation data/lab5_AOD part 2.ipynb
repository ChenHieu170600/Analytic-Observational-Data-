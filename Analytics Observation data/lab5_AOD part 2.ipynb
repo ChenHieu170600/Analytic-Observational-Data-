{
  "nbformat": 4,
  "nbformat_minor": 0,
  "metadata": {
    "colab": {
      "name": "Untitled51.ipynb",
      "provenance": []
    },
    "kernelspec": {
      "name": "python3",
      "display_name": "Python 3"
    },
    "language_info": {
      "name": "python"
    }
  },
  "cells": [
    {
      "cell_type": "code",
      "metadata": {
        "id": "lIExNnfxzBzv"
      },
      "source": [
        "import pandas as pd"
      ],
      "execution_count": 1,
      "outputs": []
    },
    {
      "cell_type": "code",
      "metadata": {
        "id": "FFx1J-kWzMdW"
      },
      "source": [
        "df = pd .read_csv('GlobalLandTemperaturesByCity.csv')"
      ],
      "execution_count": 22,
      "outputs": []
    },
    {
      "cell_type": "code",
      "metadata": {
        "colab": {
          "base_uri": "https://localhost:8080/",
          "height": 419
        },
        "id": "h7IdY-H1zxcR",
        "outputId": "34a9e3a6-af94-4790-8ae3-25b5db549d93"
      },
      "source": [
        "df"
      ],
      "execution_count": 23,
      "outputs": [
        {
          "output_type": "execute_result",
          "data": {
            "text/html": [
              "<div>\n",
              "<style scoped>\n",
              "    .dataframe tbody tr th:only-of-type {\n",
              "        vertical-align: middle;\n",
              "    }\n",
              "\n",
              "    .dataframe tbody tr th {\n",
              "        vertical-align: top;\n",
              "    }\n",
              "\n",
              "    .dataframe thead th {\n",
              "        text-align: right;\n",
              "    }\n",
              "</style>\n",
              "<table border=\"1\" class=\"dataframe\">\n",
              "  <thead>\n",
              "    <tr style=\"text-align: right;\">\n",
              "      <th></th>\n",
              "      <th>dt</th>\n",
              "      <th>AverageTemperature</th>\n",
              "      <th>AverageTemperatureUncertainty</th>\n",
              "      <th>City</th>\n",
              "      <th>Country</th>\n",
              "      <th>Latitude</th>\n",
              "      <th>Longitude</th>\n",
              "    </tr>\n",
              "  </thead>\n",
              "  <tbody>\n",
              "    <tr>\n",
              "      <th>0</th>\n",
              "      <td>1743-11-01</td>\n",
              "      <td>6.068</td>\n",
              "      <td>1.737</td>\n",
              "      <td>Århus</td>\n",
              "      <td>Denmark</td>\n",
              "      <td>57.05N</td>\n",
              "      <td>10.33E</td>\n",
              "    </tr>\n",
              "    <tr>\n",
              "      <th>1</th>\n",
              "      <td>1743-12-01</td>\n",
              "      <td>NaN</td>\n",
              "      <td>NaN</td>\n",
              "      <td>Århus</td>\n",
              "      <td>Denmark</td>\n",
              "      <td>57.05N</td>\n",
              "      <td>10.33E</td>\n",
              "    </tr>\n",
              "    <tr>\n",
              "      <th>2</th>\n",
              "      <td>1744-01-01</td>\n",
              "      <td>NaN</td>\n",
              "      <td>NaN</td>\n",
              "      <td>Århus</td>\n",
              "      <td>Denmark</td>\n",
              "      <td>57.05N</td>\n",
              "      <td>10.33E</td>\n",
              "    </tr>\n",
              "    <tr>\n",
              "      <th>3</th>\n",
              "      <td>1744-02-01</td>\n",
              "      <td>NaN</td>\n",
              "      <td>NaN</td>\n",
              "      <td>Århus</td>\n",
              "      <td>Denmark</td>\n",
              "      <td>57.05N</td>\n",
              "      <td>10.33E</td>\n",
              "    </tr>\n",
              "    <tr>\n",
              "      <th>4</th>\n",
              "      <td>1744-03-01</td>\n",
              "      <td>NaN</td>\n",
              "      <td>NaN</td>\n",
              "      <td>Århus</td>\n",
              "      <td>Denmark</td>\n",
              "      <td>57.05N</td>\n",
              "      <td>10.33E</td>\n",
              "    </tr>\n",
              "    <tr>\n",
              "      <th>...</th>\n",
              "      <td>...</td>\n",
              "      <td>...</td>\n",
              "      <td>...</td>\n",
              "      <td>...</td>\n",
              "      <td>...</td>\n",
              "      <td>...</td>\n",
              "      <td>...</td>\n",
              "    </tr>\n",
              "    <tr>\n",
              "      <th>2686734</th>\n",
              "      <td>1989-06-01</td>\n",
              "      <td>27.839</td>\n",
              "      <td>0.199</td>\n",
              "      <td>Guangzhou</td>\n",
              "      <td>China</td>\n",
              "      <td>23.31N</td>\n",
              "      <td>112.72E</td>\n",
              "    </tr>\n",
              "    <tr>\n",
              "      <th>2686735</th>\n",
              "      <td>1989-07-01</td>\n",
              "      <td>29.038</td>\n",
              "      <td>0.223</td>\n",
              "      <td>Guangzhou</td>\n",
              "      <td>China</td>\n",
              "      <td>23.31N</td>\n",
              "      <td>112.72E</td>\n",
              "    </tr>\n",
              "    <tr>\n",
              "      <th>2686736</th>\n",
              "      <td>1989-08-01</td>\n",
              "      <td>29.231</td>\n",
              "      <td>0.289</td>\n",
              "      <td>Guangzhou</td>\n",
              "      <td>China</td>\n",
              "      <td>23.31N</td>\n",
              "      <td>112.72E</td>\n",
              "    </tr>\n",
              "    <tr>\n",
              "      <th>2686737</th>\n",
              "      <td>1989-09-01</td>\n",
              "      <td>27.958</td>\n",
              "      <td>0.260</td>\n",
              "      <td>Guangzhou</td>\n",
              "      <td>China</td>\n",
              "      <td>23.31N</td>\n",
              "      <td>112.72E</td>\n",
              "    </tr>\n",
              "    <tr>\n",
              "      <th>2686738</th>\n",
              "      <td>1989-10-01</td>\n",
              "      <td>24.576</td>\n",
              "      <td>0.312</td>\n",
              "      <td>Guangz</td>\n",
              "      <td>NaN</td>\n",
              "      <td>NaN</td>\n",
              "      <td>NaN</td>\n",
              "    </tr>\n",
              "  </tbody>\n",
              "</table>\n",
              "<p>2686739 rows × 7 columns</p>\n",
              "</div>"
            ],
            "text/plain": [
              "                 dt  AverageTemperature  ...  Latitude Longitude\n",
              "0        1743-11-01               6.068  ...    57.05N    10.33E\n",
              "1        1743-12-01                 NaN  ...    57.05N    10.33E\n",
              "2        1744-01-01                 NaN  ...    57.05N    10.33E\n",
              "3        1744-02-01                 NaN  ...    57.05N    10.33E\n",
              "4        1744-03-01                 NaN  ...    57.05N    10.33E\n",
              "...             ...                 ...  ...       ...       ...\n",
              "2686734  1989-06-01              27.839  ...    23.31N   112.72E\n",
              "2686735  1989-07-01              29.038  ...    23.31N   112.72E\n",
              "2686736  1989-08-01              29.231  ...    23.31N   112.72E\n",
              "2686737  1989-09-01              27.958  ...    23.31N   112.72E\n",
              "2686738  1989-10-01              24.576  ...       NaN       NaN\n",
              "\n",
              "[2686739 rows x 7 columns]"
            ]
          },
          "metadata": {
            "tags": []
          },
          "execution_count": 23
        }
      ]
    },
    {
      "cell_type": "code",
      "metadata": {
        "colab": {
          "base_uri": "https://localhost:8080/",
          "height": 419
        },
        "id": "otVUFpPvzx7R",
        "outputId": "51bb09a5-f47d-42c1-c942-9614b65055b2"
      },
      "source": [
        "temp_alt = df[['AverageTemperature','Latitude']].dropna()\n",
        "temp_alt"
      ],
      "execution_count": 144,
      "outputs": [
        {
          "output_type": "execute_result",
          "data": {
            "text/html": [
              "<div>\n",
              "<style scoped>\n",
              "    .dataframe tbody tr th:only-of-type {\n",
              "        vertical-align: middle;\n",
              "    }\n",
              "\n",
              "    .dataframe tbody tr th {\n",
              "        vertical-align: top;\n",
              "    }\n",
              "\n",
              "    .dataframe thead th {\n",
              "        text-align: right;\n",
              "    }\n",
              "</style>\n",
              "<table border=\"1\" class=\"dataframe\">\n",
              "  <thead>\n",
              "    <tr style=\"text-align: right;\">\n",
              "      <th></th>\n",
              "      <th>AverageTemperature</th>\n",
              "      <th>Latitude</th>\n",
              "    </tr>\n",
              "  </thead>\n",
              "  <tbody>\n",
              "    <tr>\n",
              "      <th>0</th>\n",
              "      <td>6.068</td>\n",
              "      <td>57.05N</td>\n",
              "    </tr>\n",
              "    <tr>\n",
              "      <th>5</th>\n",
              "      <td>5.788</td>\n",
              "      <td>57.05N</td>\n",
              "    </tr>\n",
              "    <tr>\n",
              "      <th>6</th>\n",
              "      <td>10.644</td>\n",
              "      <td>57.05N</td>\n",
              "    </tr>\n",
              "    <tr>\n",
              "      <th>7</th>\n",
              "      <td>14.051</td>\n",
              "      <td>57.05N</td>\n",
              "    </tr>\n",
              "    <tr>\n",
              "      <th>8</th>\n",
              "      <td>16.082</td>\n",
              "      <td>57.05N</td>\n",
              "    </tr>\n",
              "    <tr>\n",
              "      <th>...</th>\n",
              "      <td>...</td>\n",
              "      <td>...</td>\n",
              "    </tr>\n",
              "    <tr>\n",
              "      <th>2686733</th>\n",
              "      <td>25.058</td>\n",
              "      <td>23.31N</td>\n",
              "    </tr>\n",
              "    <tr>\n",
              "      <th>2686734</th>\n",
              "      <td>27.839</td>\n",
              "      <td>23.31N</td>\n",
              "    </tr>\n",
              "    <tr>\n",
              "      <th>2686735</th>\n",
              "      <td>29.038</td>\n",
              "      <td>23.31N</td>\n",
              "    </tr>\n",
              "    <tr>\n",
              "      <th>2686736</th>\n",
              "      <td>29.231</td>\n",
              "      <td>23.31N</td>\n",
              "    </tr>\n",
              "    <tr>\n",
              "      <th>2686737</th>\n",
              "      <td>27.958</td>\n",
              "      <td>23.31N</td>\n",
              "    </tr>\n",
              "  </tbody>\n",
              "</table>\n",
              "<p>2567904 rows × 2 columns</p>\n",
              "</div>"
            ],
            "text/plain": [
              "         AverageTemperature Latitude\n",
              "0                     6.068   57.05N\n",
              "5                     5.788   57.05N\n",
              "6                    10.644   57.05N\n",
              "7                    14.051   57.05N\n",
              "8                    16.082   57.05N\n",
              "...                     ...      ...\n",
              "2686733              25.058   23.31N\n",
              "2686734              27.839   23.31N\n",
              "2686735              29.038   23.31N\n",
              "2686736              29.231   23.31N\n",
              "2686737              27.958   23.31N\n",
              "\n",
              "[2567904 rows x 2 columns]"
            ]
          },
          "metadata": {
            "tags": []
          },
          "execution_count": 144
        }
      ]
    },
    {
      "cell_type": "code",
      "metadata": {
        "id": "5nMuu9fF_F5G"
      },
      "source": [
        "d = temp_alt.groupby('Latitude').mean()\n",
        "d = d.rename(columns = {\"AverageTemperature\":\"avg_lat\"})"
      ],
      "execution_count": 147,
      "outputs": []
    },
    {
      "cell_type": "code",
      "metadata": {
        "colab": {
          "base_uri": "https://localhost:8080/",
          "height": 450
        },
        "id": "MYs0KI0MEOzE",
        "outputId": "0a2ee67b-e5a5-4992-caeb-97052788f668"
      },
      "source": [
        "new_data = temp_alt.set_index('Latitude').join(d)\n",
        "new_data"
      ],
      "execution_count": 151,
      "outputs": [
        {
          "output_type": "execute_result",
          "data": {
            "text/html": [
              "<div>\n",
              "<style scoped>\n",
              "    .dataframe tbody tr th:only-of-type {\n",
              "        vertical-align: middle;\n",
              "    }\n",
              "\n",
              "    .dataframe tbody tr th {\n",
              "        vertical-align: top;\n",
              "    }\n",
              "\n",
              "    .dataframe thead th {\n",
              "        text-align: right;\n",
              "    }\n",
              "</style>\n",
              "<table border=\"1\" class=\"dataframe\">\n",
              "  <thead>\n",
              "    <tr style=\"text-align: right;\">\n",
              "      <th></th>\n",
              "      <th>AverageTemperature</th>\n",
              "      <th>avg_lat</th>\n",
              "    </tr>\n",
              "    <tr>\n",
              "      <th>Latitude</th>\n",
              "      <th></th>\n",
              "      <th></th>\n",
              "    </tr>\n",
              "  </thead>\n",
              "  <tbody>\n",
              "    <tr>\n",
              "      <th>0.80N</th>\n",
              "      <td>24.890</td>\n",
              "      <td>24.189998</td>\n",
              "    </tr>\n",
              "    <tr>\n",
              "      <th>0.80N</th>\n",
              "      <td>27.070</td>\n",
              "      <td>24.189998</td>\n",
              "    </tr>\n",
              "    <tr>\n",
              "      <th>0.80N</th>\n",
              "      <td>26.455</td>\n",
              "      <td>24.189998</td>\n",
              "    </tr>\n",
              "    <tr>\n",
              "      <th>0.80N</th>\n",
              "      <td>25.753</td>\n",
              "      <td>24.189998</td>\n",
              "    </tr>\n",
              "    <tr>\n",
              "      <th>0.80N</th>\n",
              "      <td>26.292</td>\n",
              "      <td>24.189998</td>\n",
              "    </tr>\n",
              "    <tr>\n",
              "      <th>...</th>\n",
              "      <td>...</td>\n",
              "      <td>...</td>\n",
              "    </tr>\n",
              "    <tr>\n",
              "      <th>8.84S</th>\n",
              "      <td>25.290</td>\n",
              "      <td>23.847313</td>\n",
              "    </tr>\n",
              "    <tr>\n",
              "      <th>8.84S</th>\n",
              "      <td>23.856</td>\n",
              "      <td>23.847313</td>\n",
              "    </tr>\n",
              "    <tr>\n",
              "      <th>8.84S</th>\n",
              "      <td>22.688</td>\n",
              "      <td>23.847313</td>\n",
              "    </tr>\n",
              "    <tr>\n",
              "      <th>8.84S</th>\n",
              "      <td>21.567</td>\n",
              "      <td>23.847313</td>\n",
              "    </tr>\n",
              "    <tr>\n",
              "      <th>8.84S</th>\n",
              "      <td>21.770</td>\n",
              "      <td>23.847313</td>\n",
              "    </tr>\n",
              "  </tbody>\n",
              "</table>\n",
              "<p>2567904 rows × 2 columns</p>\n",
              "</div>"
            ],
            "text/plain": [
              "          AverageTemperature    avg_lat\n",
              "Latitude                               \n",
              "0.80N                 24.890  24.189998\n",
              "0.80N                 27.070  24.189998\n",
              "0.80N                 26.455  24.189998\n",
              "0.80N                 25.753  24.189998\n",
              "0.80N                 26.292  24.189998\n",
              "...                      ...        ...\n",
              "8.84S                 25.290  23.847313\n",
              "8.84S                 23.856  23.847313\n",
              "8.84S                 22.688  23.847313\n",
              "8.84S                 21.567  23.847313\n",
              "8.84S                 21.770  23.847313\n",
              "\n",
              "[2567904 rows x 2 columns]"
            ]
          },
          "metadata": {
            "tags": []
          },
          "execution_count": 151
        }
      ]
    },
    {
      "cell_type": "code",
      "metadata": {
        "id": "_vz5UF0SFcLE"
      },
      "source": [
        "sample = new_data.sample(n=100, random_state=1)"
      ],
      "execution_count": 166,
      "outputs": []
    },
    {
      "cell_type": "code",
      "metadata": {
        "colab": {
          "base_uri": "https://localhost:8080/"
        },
        "id": "0-xAvwcDFoP7",
        "outputId": "d9aa9d19-8d3e-4aee-9456-f59bdb6b6ddc"
      },
      "source": [
        "from scipy.stats import chisquare\n",
        "chisquare(sample['AverageTemperature'], sample['avg_lat'])"
      ],
      "execution_count": 165,
      "outputs": [
        {
          "output_type": "execute_result",
          "data": {
            "text/plain": [
              "Power_divergenceResult(statistic=175.0281180153032, pvalue=4.624186183532578e-16)"
            ]
          },
          "metadata": {
            "tags": []
          },
          "execution_count": 165
        }
      ]
    },
    {
      "cell_type": "code",
      "metadata": {
        "id": "ndLVbaZmI6L2"
      },
      "source": [
        ""
      ],
      "execution_count": null,
      "outputs": []
    }
  ]
}